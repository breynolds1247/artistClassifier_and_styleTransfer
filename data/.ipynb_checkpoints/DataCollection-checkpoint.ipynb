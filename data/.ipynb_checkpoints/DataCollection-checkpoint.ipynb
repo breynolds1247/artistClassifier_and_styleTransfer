{
 "cells": [
  {
   "cell_type": "markdown",
   "id": "f88289ff",
   "metadata": {},
   "source": [
    "## Collecting paints for van Gogh and various artists\n",
    "This notebook is designed for collecting artworks by various artist and producing the meta info"
   ]
  },
  {
   "cell_type": "code",
   "execution_count": 4,
   "id": "807f2cb2",
   "metadata": {},
   "outputs": [
    {
     "ename": "ModuleNotFoundError",
     "evalue": "No module named 'wget'",
     "output_type": "error",
     "traceback": [
      "\u001b[1;31m---------------------------------------------------------------------------\u001b[0m",
      "\u001b[1;31mModuleNotFoundError\u001b[0m                       Traceback (most recent call last)",
      "Input \u001b[1;32mIn [4]\u001b[0m, in \u001b[0;36m<cell line: 8>\u001b[1;34m()\u001b[0m\n\u001b[0;32m      6\u001b[0m \u001b[38;5;28;01mfrom\u001b[39;00m \u001b[38;5;21;01mtqdm\u001b[39;00m \u001b[38;5;28;01mimport\u001b[39;00m tqdm\n\u001b[0;32m      7\u001b[0m \u001b[38;5;28;01mimport\u001b[39;00m \u001b[38;5;21;01mhashlib\u001b[39;00m\n\u001b[1;32m----> 8\u001b[0m \u001b[38;5;28;01mimport\u001b[39;00m \u001b[38;5;21;01mwget\u001b[39;00m\n\u001b[0;32m      9\u001b[0m \u001b[38;5;28;01mfrom\u001b[39;00m  \u001b[38;5;21;01mdownload\u001b[39;00m \u001b[38;5;28;01mimport\u001b[39;00m \u001b[38;5;241m*\u001b[39m\n",
      "\u001b[1;31mModuleNotFoundError\u001b[0m: No module named 'wget'"
     ]
    }
   ],
   "source": [
    "import shutil\n",
    "import os\n",
    "import glob\n",
    "import pandas as pd\n",
    "import numpy\n",
    "from tqdm import tqdm\n",
    "import hashlib\n",
    "import wget\n",
    "from  download import *"
   ]
  },
  {
   "cell_type": "code",
   "execution_count": 3,
   "id": "128f4d31",
   "metadata": {},
   "outputs": [
    {
     "name": "stderr",
     "output_type": "stream",
     "text": [
      "'ls' is not recognized as an internal or external command,\n",
      "operable program or batch file.\n"
     ]
    }
   ],
   "source": [
    "!ls -alrt"
   ]
  },
  {
   "cell_type": "code",
   "execution_count": null,
   "id": "ff0b5b8b",
   "metadata": {},
   "outputs": [],
   "source": [
    "# Create Meta record\n",
    "fileList = []\n",
    "img_path = \"./imgs\"\n",
    "\n",
    "if not os.path.isdir(img_path):\n",
    "    os.mkdir(img_path)\n"
   ]
  },
  {
   "cell_type": "code",
   "execution_count": null,
   "id": "f1ab81b8",
   "metadata": {},
   "outputs": [],
   "source": [
    "# Download van Gogh dataset\n",
    "!kaggle datasets download -d ipythonx/van-gogh-paintings\n",
    "\n",
    "# List all von Goph plots\n",
    "tmp_path = \"./tmp\"\n",
    "vangoghZip = 'van-gogh-paintings.zip'\n",
    "try:\n",
    "    shutil.unpack_archive(vangoghZip,tmp_path)\n",
    "except Exception as err:\n",
    "    print(err)\n",
    "\n",
    "allVanGogh = glob.glob(tmp_path+'/*/*.jpg')\n",
    "\n",
    "# Append metadata\n",
    "for index in tqdm(range(len(allVanGogh))):\n",
    "    fileName = allVanGogh[index]\n",
    "    file = fileName.split(\"/\")[-1]\n",
    "    hashName = hashlib.md5(file.encode()).hexdigest()\n",
    "    shutil.move(fileName, img_path + \"/\" + hashName + \".jpg\", copy_function = shutil.copy2)\n",
    "    artist = \"vanGogh\"\n",
    "    fileList.append([hashName,artist])\n",
    "    \n",
    "# Clean tmp data\n",
    "try:\n",
    "    shutil.rmtree(tmp_path)\n",
    "    os.remove(vangoghZip)\n",
    "except Exception as err:\n",
    "    print(err)"
   ]
  },
  {
   "cell_type": "code",
   "execution_count": null,
   "id": "68a66ca4",
   "metadata": {},
   "outputs": [],
   "source": [
    "# Download Monet dataset: https://www.kaggle.com/datasets/srrrrr/monet2photo\n",
    "!kaggle datasets download -d srrrrr/monet2photo\n",
    "\n",
    "# List all Monet plots\n",
    "tmp_path = \"./tmp\"\n",
    "monetZip = 'monet2photo.zip'\n",
    "try:\n",
    "    shutil.unpack_archive(monetZip,tmp_path)\n",
    "except Exception as err:\n",
    "    print(err)\n",
    "\n",
    "allMonet = glob.glob(tmp_path+'/*/trainA/*.jpg')\n",
    "\n",
    "# Append metadata\n",
    "for index in tqdm(range(len(allMonet))):\n",
    "    fileName = allMonet[index]\n",
    "    file = fileName.split(\"/\")[-1]\n",
    "    hashName = hashlib.md5(file.encode()).hexdigest()\n",
    "    shutil.move(fileName, img_path + \"/\" + hashName + \".jpg\", copy_function = shutil.copy2)\n",
    "    artist = \"Monet\"\n",
    "    fileList.append([hashName,artist])\n",
    "    \n",
    "# Clean tmp data\n",
    "try:\n",
    "    shutil.rmtree(tmp_path)\n",
    "    os.remove(monetZip)\n",
    "except Exception as err:\n",
    "    print(err)"
   ]
  },
  {
   "cell_type": "code",
   "execution_count": null,
   "id": "b4abc4b5",
   "metadata": {},
   "outputs": [],
   "source": [
    "# Download WikiArts dataset: https://www.kaggle.com/datasets/antoinegruson/-wikiart-all-images-120k-link\n",
    "!kaggle datasets download -d czkaiweb/subwikiarts\n",
    "\n",
    "# List all wikiarts plots\n",
    "tmp_path = \"./tmp\"\n",
    "wikiartsZip = 'subwikiarts.zip'\n",
    "try:\n",
    "    shutil.unpack_archive(wikiartsZip,tmp_path)\n",
    "except Exception as err:\n",
    "    print(err)\n",
    "\n",
    "WikiArtsMeta = tmp_path+\"/WikiArts.csv\"\n",
    "WikiArtsDF = pd.read_csv(WikiArtsMeta)\n",
    "WikiArtsList = WikiArtsDF[[\"hash\",\"Artist\"]].values\n",
    "\n",
    "def findGroup(head):\n",
    "    if head <= \"33\":\n",
    "        return \"/GroupA/\"\n",
    "    elif head <= \"69\":\n",
    "        return \"/GroupB/\"\n",
    "    elif head <= \"9d\":\n",
    "        return \"/GroupC/\"\n",
    "    elif head <= \"cc\":\n",
    "        return \"/GroupD/\"\n",
    "    else:\n",
    "        return \"/GroupE/\"\n",
    "    \n",
    "# Set to true for group splitting\n",
    "preClean = False\n",
    "if preClean == True:\n",
    "    for char in [\"A\",\"B\",\"C\",\"D\",\"E\"]:\n",
    "        groupDir = img_path+\"/Group{}\".format(char)\n",
    "        if not os.path.isdir(groupDir):\n",
    "            os.mkdir(groupDir)\n",
    "\n",
    "for record in WikiArtsList:\n",
    "    groupDir = \"/./\"\n",
    "    if preClean:\n",
    "        groupDir = findGroup(record[0][:2])\n",
    "    fileName = tmp_path+\"/imgs/\"+record[0]+\".jpg\"\n",
    "    shutil.move(fileName, img_path+ groupDir + \"/\" , copy_function = shutil.copy2)\n",
    "    \n",
    "# Clean tmp data\n",
    "try:\n",
    "    shutil.rmtree(tmp_path)\n",
    "    os.remove(wikiartsZip)\n",
    "except Exception as err:\n",
    "    print(err)\n"
   ]
  },
  {
   "cell_type": "code",
   "execution_count": null,
   "id": "4d00bd8f",
   "metadata": {},
   "outputs": [],
   "source": [
    "# Save to meta file\n",
    "metaDF = pd.DataFrame(fileList,columns = [\"hash\",\"Artist\"])\n",
    "metaDF = pd.concat([metaDF,WikiArtsDF[[\"hash\",\"Artist\"]]])\n",
    "metaDF.to_csv(\"meta.csv\")"
   ]
  },
  {
   "cell_type": "code",
   "execution_count": null,
   "id": "03e4f83c",
   "metadata": {},
   "outputs": [],
   "source": []
  },
  {
   "cell_type": "code",
   "execution_count": null,
   "id": "a10688c6",
   "metadata": {},
   "outputs": [],
   "source": []
  }
 ],
 "metadata": {
  "kernelspec": {
   "display_name": "Python 3 (ipykernel)",
   "language": "python",
   "name": "python3"
  },
  "language_info": {
   "codemirror_mode": {
    "name": "ipython",
    "version": 3
   },
   "file_extension": ".py",
   "mimetype": "text/x-python",
   "name": "python",
   "nbconvert_exporter": "python",
   "pygments_lexer": "ipython3",
   "version": "3.9.12"
  }
 },
 "nbformat": 4,
 "nbformat_minor": 5
}
